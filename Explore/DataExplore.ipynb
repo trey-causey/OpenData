{
 "cells": [
  {
   "cell_type": "code",
   "execution_count": 15,
   "metadata": {
    "collapsed": true
   },
   "outputs": [],
   "source": [
    "import pandas as pd\n",
    "citations_df = pd.read_csv('E:\\_Datasets\\City_Court_Citations\\City_Court_Citations.csv')\n",
    "# csv_df = pd.read_csv('E:\\_Datasets\\Small_Business_Administration_Loans\\Small_Business_Administration_Loans.csv')\n",
    "# traffic_df = pd.read_csv('E:\\_Datasets\\CDOT_Vehicle_Detection\\CDOT_Vehicle_Detection.csv', nrows=100000)\n",
    "# csv_df = pd.read_csv('E:\\_Datasets\\Hamilton_County_Property_Appraisal_Information\\Hamilton_County_Property_Appraisal_Information.csv', nrows=10000)\n",
    "# csv_df = pd.read_csv('E:\\_Datasets\\Hamilton_County_E911_Active_Calls\\Hamilton_County_E911_Active_Calls.csv')\n",
    "# csv_df = pd.read_csv('E:\\_Datasets\\TN_Child_Care\\TN_Child_Care.csv')\n"
   ]
  },
  {
   "cell_type": "code",
   "execution_count": 16,
   "outputs": [
    {
     "data": {
      "text/plain": "   Citation Year Citation Number Case_Number  \\\n0           2021           73410         NaN   \n1           2021           97364         NaN   \n2           2021           97975         NaN   \n3           2021           99304         NaN   \n4           2021           99479         NaN   \n\n                                             Charges  Race of Offender  \\\n0                                           Speeding             White   \n1                                           Speeding  African American   \n2                         Improper Lane Usage/Change             White   \n3  Driving on Revoked/Suspended/Cancelled License...  African American   \n4  Violating Drivers License Law, Financial Respo...          Hispanic   \n\n  Sex of Offender          Violation Date  \\\n0            Male  02/17/2021 05:57:00 AM   \n1          Female  03/09/2021 12:21:00 PM   \n2            Male  03/07/2021 05:10:00 PM   \n3            Male  03/09/2021 10:00:00 PM   \n4          Female  03/08/2021 08:30:00 AM   \n\n                                 Address  Longitude  Latitude Location WKT  \\\n0                I24 AT, Chattanooga, TN        NaN       NaN          NaN   \n1          100 I75 N AT, Chattanooga, TN        NaN       NaN          NaN   \n2                I75 AT, Chattanooga, TN        NaN       NaN          NaN   \n3  1417 ST THOMAS ST AT, Chattanooga, TN        NaN       NaN          NaN   \n4              I75 S AT, Chattanooga, TN        NaN       NaN          NaN   \n\n          Agency  \n0  EAST RIDGE PD  \n1  EAST RIDGE PD  \n2  EAST RIDGE PD  \n3  EAST RIDGE PD  \n4  EAST RIDGE PD  ",
      "text/html": "<div>\n<style scoped>\n    .dataframe tbody tr th:only-of-type {\n        vertical-align: middle;\n    }\n\n    .dataframe tbody tr th {\n        vertical-align: top;\n    }\n\n    .dataframe thead th {\n        text-align: right;\n    }\n</style>\n<table border=\"1\" class=\"dataframe\">\n  <thead>\n    <tr style=\"text-align: right;\">\n      <th></th>\n      <th>Citation Year</th>\n      <th>Citation Number</th>\n      <th>Case_Number</th>\n      <th>Charges</th>\n      <th>Race of Offender</th>\n      <th>Sex of Offender</th>\n      <th>Violation Date</th>\n      <th>Address</th>\n      <th>Longitude</th>\n      <th>Latitude</th>\n      <th>Location WKT</th>\n      <th>Agency</th>\n    </tr>\n  </thead>\n  <tbody>\n    <tr>\n      <th>0</th>\n      <td>2021</td>\n      <td>73410</td>\n      <td>NaN</td>\n      <td>Speeding</td>\n      <td>White</td>\n      <td>Male</td>\n      <td>02/17/2021 05:57:00 AM</td>\n      <td>I24 AT, Chattanooga, TN</td>\n      <td>NaN</td>\n      <td>NaN</td>\n      <td>NaN</td>\n      <td>EAST RIDGE PD</td>\n    </tr>\n    <tr>\n      <th>1</th>\n      <td>2021</td>\n      <td>97364</td>\n      <td>NaN</td>\n      <td>Speeding</td>\n      <td>African American</td>\n      <td>Female</td>\n      <td>03/09/2021 12:21:00 PM</td>\n      <td>100 I75 N AT, Chattanooga, TN</td>\n      <td>NaN</td>\n      <td>NaN</td>\n      <td>NaN</td>\n      <td>EAST RIDGE PD</td>\n    </tr>\n    <tr>\n      <th>2</th>\n      <td>2021</td>\n      <td>97975</td>\n      <td>NaN</td>\n      <td>Improper Lane Usage/Change</td>\n      <td>White</td>\n      <td>Male</td>\n      <td>03/07/2021 05:10:00 PM</td>\n      <td>I75 AT, Chattanooga, TN</td>\n      <td>NaN</td>\n      <td>NaN</td>\n      <td>NaN</td>\n      <td>EAST RIDGE PD</td>\n    </tr>\n    <tr>\n      <th>3</th>\n      <td>2021</td>\n      <td>99304</td>\n      <td>NaN</td>\n      <td>Driving on Revoked/Suspended/Cancelled License...</td>\n      <td>African American</td>\n      <td>Male</td>\n      <td>03/09/2021 10:00:00 PM</td>\n      <td>1417 ST THOMAS ST AT, Chattanooga, TN</td>\n      <td>NaN</td>\n      <td>NaN</td>\n      <td>NaN</td>\n      <td>EAST RIDGE PD</td>\n    </tr>\n    <tr>\n      <th>4</th>\n      <td>2021</td>\n      <td>99479</td>\n      <td>NaN</td>\n      <td>Violating Drivers License Law, Financial Respo...</td>\n      <td>Hispanic</td>\n      <td>Female</td>\n      <td>03/08/2021 08:30:00 AM</td>\n      <td>I75 S AT, Chattanooga, TN</td>\n      <td>NaN</td>\n      <td>NaN</td>\n      <td>NaN</td>\n      <td>EAST RIDGE PD</td>\n    </tr>\n  </tbody>\n</table>\n</div>"
     },
     "execution_count": 16,
     "metadata": {},
     "output_type": "execute_result"
    }
   ],
   "source": [
    "citations_df.head()"
   ],
   "metadata": {
    "collapsed": false
   }
  },
  {
   "cell_type": "code",
   "execution_count": 18,
   "outputs": [
    {
     "data": {
      "text/plain": "       Citation Year     Longitude      Latitude\ncount   82040.000000  61069.000000  61069.000000\nmean     2018.654352    -85.241227     35.052358\nstd         1.848645      0.062766      0.037536\nmin      2016.000000    -85.409319     34.983156\n25%      2017.000000    -85.293368     35.024957\n50%      2019.000000    -85.248708     35.045906\n75%      2020.000000    -85.193634     35.070433\nmax      2022.000000    -85.051414     35.211856",
      "text/html": "<div>\n<style scoped>\n    .dataframe tbody tr th:only-of-type {\n        vertical-align: middle;\n    }\n\n    .dataframe tbody tr th {\n        vertical-align: top;\n    }\n\n    .dataframe thead th {\n        text-align: right;\n    }\n</style>\n<table border=\"1\" class=\"dataframe\">\n  <thead>\n    <tr style=\"text-align: right;\">\n      <th></th>\n      <th>Citation Year</th>\n      <th>Longitude</th>\n      <th>Latitude</th>\n    </tr>\n  </thead>\n  <tbody>\n    <tr>\n      <th>count</th>\n      <td>82040.000000</td>\n      <td>61069.000000</td>\n      <td>61069.000000</td>\n    </tr>\n    <tr>\n      <th>mean</th>\n      <td>2018.654352</td>\n      <td>-85.241227</td>\n      <td>35.052358</td>\n    </tr>\n    <tr>\n      <th>std</th>\n      <td>1.848645</td>\n      <td>0.062766</td>\n      <td>0.037536</td>\n    </tr>\n    <tr>\n      <th>min</th>\n      <td>2016.000000</td>\n      <td>-85.409319</td>\n      <td>34.983156</td>\n    </tr>\n    <tr>\n      <th>25%</th>\n      <td>2017.000000</td>\n      <td>-85.293368</td>\n      <td>35.024957</td>\n    </tr>\n    <tr>\n      <th>50%</th>\n      <td>2019.000000</td>\n      <td>-85.248708</td>\n      <td>35.045906</td>\n    </tr>\n    <tr>\n      <th>75%</th>\n      <td>2020.000000</td>\n      <td>-85.193634</td>\n      <td>35.070433</td>\n    </tr>\n    <tr>\n      <th>max</th>\n      <td>2022.000000</td>\n      <td>-85.051414</td>\n      <td>35.211856</td>\n    </tr>\n  </tbody>\n</table>\n</div>"
     },
     "execution_count": 18,
     "metadata": {},
     "output_type": "execute_result"
    }
   ],
   "source": [
    "citations_df.describe()"
   ],
   "metadata": {
    "collapsed": false
   }
  },
  {
   "cell_type": "code",
   "execution_count": 19,
   "outputs": [
    {
     "data": {
      "text/plain": "<Figure size 640x480 with 1 Axes>",
      "image/png": "[encoded data removed]"
     },
     "metadata": {},
     "output_type": "display_data"
    }
   ],
   "source": [
    "import matplotlib.pyplot as plt\n",
    "import seaborn as sns\n",
    "\n",
    "sns.countplot(x='Race of Offender', data=citations_df)\n",
    "plt.title('Number of Citations by Race')\n",
    "plt.show()\n"
   ],
   "metadata": {
    "collapsed": false
   }
  },
  {
   "cell_type": "code",
   "execution_count": 5,
   "outputs": [
    {
     "data": {
      "text/plain": "       Location ZIP   Mailing ZIP  Star Rating    Capacity\ncount    100.000000    100.000000    60.000000  100.000000\nmean   37391.510000  37398.300000     2.783333   83.150000\nstd       31.377949     27.494903     0.523731   78.053643\nmin    37302.000000  37315.000000     0.000000    7.000000\n25%    37376.000000  37401.750000     3.000000   23.000000\n50%    37405.000000  37407.000000     3.000000   70.000000\n75%    37415.000000  37416.000000     3.000000  116.250000\nmax    37421.000000  37421.000000     3.000000  483.000000",
      "text/html": "<div>\n<style scoped>\n    .dataframe tbody tr th:only-of-type {\n        vertical-align: middle;\n    }\n\n    .dataframe tbody tr th {\n        vertical-align: top;\n    }\n\n    .dataframe thead th {\n        text-align: right;\n    }\n</style>\n<table border=\"1\" class=\"dataframe\">\n  <thead>\n    <tr style=\"text-align: right;\">\n      <th></th>\n      <th>Location ZIP</th>\n      <th>Mailing ZIP</th>\n      <th>Star Rating</th>\n      <th>Capacity</th>\n    </tr>\n  </thead>\n  <tbody>\n    <tr>\n      <th>count</th>\n      <td>100.000000</td>\n      <td>100.000000</td>\n      <td>60.000000</td>\n      <td>100.000000</td>\n    </tr>\n    <tr>\n      <th>mean</th>\n      <td>37391.510000</td>\n      <td>37398.300000</td>\n      <td>2.783333</td>\n      <td>83.150000</td>\n    </tr>\n    <tr>\n      <th>std</th>\n      <td>31.377949</td>\n      <td>27.494903</td>\n      <td>0.523731</td>\n      <td>78.053643</td>\n    </tr>\n    <tr>\n      <th>min</th>\n      <td>37302.000000</td>\n      <td>37315.000000</td>\n      <td>0.000000</td>\n      <td>7.000000</td>\n    </tr>\n    <tr>\n      <th>25%</th>\n      <td>37376.000000</td>\n      <td>37401.750000</td>\n      <td>3.000000</td>\n      <td>23.000000</td>\n    </tr>\n    <tr>\n      <th>50%</th>\n      <td>37405.000000</td>\n      <td>37407.000000</td>\n      <td>3.000000</td>\n      <td>70.000000</td>\n    </tr>\n    <tr>\n      <th>75%</th>\n      <td>37415.000000</td>\n      <td>37416.000000</td>\n      <td>3.000000</td>\n      <td>116.250000</td>\n    </tr>\n    <tr>\n      <th>max</th>\n      <td>37421.000000</td>\n      <td>37421.000000</td>\n      <td>3.000000</td>\n      <td>483.000000</td>\n    </tr>\n  </tbody>\n</table>\n</div>"
     },
     "execution_count": 5,
     "metadata": {},
     "output_type": "execute_result"
    }
   ],
   "source": [
    "csv_df.describe()"
   ],
   "metadata": {
    "collapsed": false
   }
  },
  {
   "cell_type": "code",
   "execution_count": 6,
   "outputs": [],
   "source": [
    "# csv_df.to_csv('E:\\_Datasets\\CDOT_Vehicle_Detection\\CDOT_Vehicle_Detection_sample.csv', sep='|', index=False)\n",
    "# csv_df.to_csv('E:\\_Datasets\\Hamilton_County_E911_Active_Calls\\Hamilton_County_E911_Active_Calls_piped.csv', sep='|', index=False)\n",
    "csv_df.to_csv('E:\\_Datasets\\TN_Child_Care\\TN_Child_Care_sample.csv', sep='|', index=False)"
   ],
   "metadata": {
    "collapsed": false
   }
  },
  {
   "cell_type": "code",
   "execution_count": 7,
   "outputs": [
    {
     "name": "stdout",
     "output_type": "stream",
     "text": [
      "<class 'pandas.core.frame.DataFrame'>\n",
      "RangeIndex: 100 entries, 0 to 99\n",
      "Data columns (total 41 columns):\n",
      " #   Column                                         Non-Null Count  Dtype  \n",
      "---  ------                                         --------------  -----  \n",
      " 0   County                                         100 non-null    object \n",
      " 1   Agency Name                                    100 non-null    object \n",
      " 2   Location Street                                100 non-null    object \n",
      " 3   Location City                                  100 non-null    object \n",
      " 4   Location State                                 100 non-null    object \n",
      " 5   Location ZIP                                   100 non-null    int64  \n",
      " 6   Agency Phone                                   100 non-null    object \n",
      " 7   Agency Contact                                 94 non-null     object \n",
      " 8   Mailing Street                                 100 non-null    object \n",
      " 9   Mailing City                                   100 non-null    object \n",
      " 10  Mialing State                                  100 non-null    object \n",
      " 11  Mailing ZIP                                    100 non-null    int64  \n",
      " 12  Minimum Age                                    100 non-null    object \n",
      " 13  Maximum Age                                    100 non-null    object \n",
      " 14  Star Rating                                    60 non-null     float64\n",
      " 15  Agency Type                                    100 non-null    object \n",
      " 16  Capacity                                       100 non-null    int64  \n",
      " 17  Open Time                                      100 non-null    object \n",
      " 18  Close Time                                     100 non-null    object \n",
      " 19  Certificate Program Participant                100 non-null    object \n",
      " 20  Offers Scholarships                            100 non-null    object \n",
      " 21  Offers Sliding Scale Fee                       100 non-null    object \n",
      " 22  Offers Multi Child Discount                    100 non-null    object \n",
      " 23  Approved For Transportation                    100 non-null    object \n",
      " 24  Charges Fee for Transportation                 100 non-null    object \n",
      " 25  Regulatory Agency                              100 non-null    object \n",
      " 26  Regulatory Status                              100 non-null    object \n",
      " 27  License Approval Date                          100 non-null    object \n",
      " 28  Date Open                                      100 non-null    object \n",
      " 29  Near Public Transportation                     100 non-null    object \n",
      " 30  Wheel Chair Accessible                         100 non-null    object \n",
      " 31  No Smoking                                     100 non-null    object \n",
      " 32  No Dogs                                        100 non-null    object \n",
      " 33  No Cats                                        100 non-null    object \n",
      " 34  No Pets                                        100 non-null    object \n",
      " 35  Child and Adult Care Food Program Participant  100 non-null    object \n",
      " 36  Program Evaluator                              100 non-null    object \n",
      " 37  Program Evaluator Phone Number                 51 non-null     object \n",
      " 38  Location Point                                 99 non-null     object \n",
      " 39  Unique ID                                      100 non-null    object \n",
      " 40  Report Date Beginning of Month                 100 non-null    object \n",
      "dtypes: float64(1), int64(3), object(37)\n",
      "memory usage: 32.2+ KB\n"
     ]
    }
   ],
   "source": [
    "csv_df.info()"
   ],
   "metadata": {
    "collapsed": false
   }
  },
  {
   "cell_type": "code",
   "execution_count": 12,
   "outputs": [
    {
     "data": {
      "text/plain": "       Direction Value  Begin Time 24 Hour  End Time 24 Hour\ncount    100000.000000       100000.000000     100000.000000\nmean         67.455010           11.419977         11.432377\nstd         152.468886            7.039836          7.024672\nmin           0.000000            0.000000          0.000000\n25%           0.000000            5.000000          5.000000\n50%          13.000000           11.250000         11.250000\n75%          73.000000           17.500000         17.500000\nmax        2236.000000           23.750000         23.750000",
      "text/html": "<div>\n<style scoped>\n    .dataframe tbody tr th:only-of-type {\n        vertical-align: middle;\n    }\n\n    .dataframe tbody tr th {\n        vertical-align: top;\n    }\n\n    .dataframe thead th {\n        text-align: right;\n    }\n</style>\n<table border=\"1\" class=\"dataframe\">\n  <thead>\n    <tr style=\"text-align: right;\">\n      <th></th>\n      <th>Direction Value</th>\n      <th>Begin Time 24 Hour</th>\n      <th>End Time 24 Hour</th>\n    </tr>\n  </thead>\n  <tbody>\n    <tr>\n      <th>count</th>\n      <td>100000.000000</td>\n      <td>100000.000000</td>\n      <td>100000.000000</td>\n    </tr>\n    <tr>\n      <th>mean</th>\n      <td>67.455010</td>\n      <td>11.419977</td>\n      <td>11.432377</td>\n    </tr>\n    <tr>\n      <th>std</th>\n      <td>152.468886</td>\n      <td>7.039836</td>\n      <td>7.024672</td>\n    </tr>\n    <tr>\n      <th>min</th>\n      <td>0.000000</td>\n      <td>0.000000</td>\n      <td>0.000000</td>\n    </tr>\n    <tr>\n      <th>25%</th>\n      <td>0.000000</td>\n      <td>5.000000</td>\n      <td>5.000000</td>\n    </tr>\n    <tr>\n      <th>50%</th>\n      <td>13.000000</td>\n      <td>11.250000</td>\n      <td>11.250000</td>\n    </tr>\n    <tr>\n      <th>75%</th>\n      <td>73.000000</td>\n      <td>17.500000</td>\n      <td>17.500000</td>\n    </tr>\n    <tr>\n      <th>max</th>\n      <td>2236.000000</td>\n      <td>23.750000</td>\n      <td>23.750000</td>\n    </tr>\n  </tbody>\n</table>\n</div>"
     },
     "execution_count": 12,
     "metadata": {},
     "output_type": "execute_result"
    }
   ],
   "source": [
    "csv_df.describe()"
   ],
   "metadata": {
    "collapsed": false
   }
  },
  {
   "cell_type": "code",
   "execution_count": 11,
   "outputs": [],
   "source": [
    "csv_df['ApprovalDate'] = pd.to_datetime(csv_df['ApprovalDate'])\n",
    "csv_df['FirstDisbursementDate'] = pd.to_datetime(csv_df['FirstDisbursementDate'])\n",
    "csv_df['ChargeOffDate'] = pd.to_datetime(csv_df['ChargeOffDate'])"
   ],
   "metadata": {
    "collapsed": false
   }
  },
  {
   "cell_type": "code",
   "execution_count": 8,
   "outputs": [
    {
     "data": {
      "text/plain": "County                                           100\nAgency Name                                      100\nLocation Street                                  100\nLocation City                                    100\nLocation State                                   100\nLocation ZIP                                     100\nAgency Phone                                     100\nAgency Contact                                    94\nMailing Street                                   100\nMailing City                                     100\nMialing State                                    100\nMailing ZIP                                      100\nMinimum Age                                      100\nMaximum Age                                      100\nStar Rating                                       60\nAgency Type                                      100\nCapacity                                         100\nOpen Time                                        100\nClose Time                                       100\nCertificate Program Participant                  100\nOffers Scholarships                              100\nOffers Sliding Scale Fee                         100\nOffers Multi Child Discount                      100\nApproved For Transportation                      100\nCharges Fee for Transportation                   100\nRegulatory Agency                                100\nRegulatory Status                                100\nLicense Approval Date                            100\nDate Open                                        100\nNear Public Transportation                       100\nWheel Chair Accessible                           100\nNo Smoking                                       100\nNo Dogs                                          100\nNo Cats                                          100\nNo Pets                                          100\nChild and Adult Care Food Program Participant    100\nProgram Evaluator                                100\nProgram Evaluator Phone Number                    51\nLocation Point                                    99\nUnique ID                                        100\nReport Date Beginning of Month                   100\ndtype: int64"
     },
     "execution_count": 8,
     "metadata": {},
     "output_type": "execute_result"
    }
   ],
   "source": [
    "csv_df.count()"
   ],
   "metadata": {
    "collapsed": false
   }
  },
  {
   "cell_type": "code",
   "execution_count": 13,
   "outputs": [
    {
     "data": {
      "text/plain": "         AsOfDate       BorrZip       BankZip  GrossApproval  \\\ncount       771.0    771.000000    687.000000   7.710000e+02   \nmean   20181231.0  37517.988327  46051.279476   4.136521e+05   \nstd           0.0   2626.933052  24555.603490   6.832614e+05   \nmin    20181231.0  27415.000000   2818.000000   5.000000e+03   \n25%    20181231.0  37403.000000  30303.000000   4.500000e+04   \n50%    20181231.0  37408.000000  37402.000000   1.500000e+05   \n75%    20181231.0  37421.000000  56301.000000   4.771000e+05   \nmax    20181231.0  99999.000000  97470.000000   5.000000e+06   \n\n       SBAGuaranteedApproval  ApprovalFiscalYear  InitialInterestRate  \\\ncount           6.870000e+02          771.000000           309.000000   \nmean            2.962514e+05         2008.866407             6.183511   \nstd             5.183538e+05            5.191807             1.219567   \nmin             2.500000e+03         2000.000000             2.070000   \n25%             2.125000e+04         2005.000000             5.500000   \n50%             1.162500e+05         2008.000000             6.000000   \n75%             3.195375e+05         2014.000000             7.000000   \nmax             3.750000e+06         2019.000000            10.500000   \n\n       TermInMonths      NaicsCode  CongressionalDistrict  \\\ncount    771.000000     763.000000             686.000000   \nmean     133.083009  548072.112713               3.018950   \nstd       80.164366  165882.082889               0.379692   \nmin        1.000000  233210.000000               1.000000   \n25%       84.000000  444220.000000               3.000000   \n50%      120.000000  541519.000000               3.000000   \n75%      180.000000  721110.000000               3.000000   \nmax      312.000000  812990.000000              12.000000   \n\n       GrossChargeOffAmount  RevolverStatus  JobsSupported  \ncount            771.000000      687.000000     771.000000  \nmean           21480.106355        0.138282      10.789883  \nstd            96574.163299        0.345448      18.099722  \nmin                0.000000        0.000000       0.000000  \n25%                0.000000        0.000000       2.000000  \n50%                0.000000        0.000000       5.000000  \n75%                0.000000        0.000000      12.000000  \nmax           997602.000000        1.000000     225.000000  ",
      "text/html": "<div>\n<style scoped>\n    .dataframe tbody tr th:only-of-type {\n        vertical-align: middle;\n    }\n\n    .dataframe tbody tr th {\n        vertical-align: top;\n    }\n\n    .dataframe thead th {\n        text-align: right;\n    }\n</style>\n<table border=\"1\" class=\"dataframe\">\n  <thead>\n    <tr style=\"text-align: right;\">\n      <th></th>\n      <th>AsOfDate</th>\n      <th>BorrZip</th>\n      <th>BankZip</th>\n      <th>GrossApproval</th>\n      <th>SBAGuaranteedApproval</th>\n      <th>ApprovalFiscalYear</th>\n      <th>InitialInterestRate</th>\n      <th>TermInMonths</th>\n      <th>NaicsCode</th>\n      <th>CongressionalDistrict</th>\n      <th>GrossChargeOffAmount</th>\n      <th>RevolverStatus</th>\n      <th>JobsSupported</th>\n    </tr>\n  </thead>\n  <tbody>\n    <tr>\n      <th>count</th>\n      <td>771.0</td>\n      <td>771.000000</td>\n      <td>687.000000</td>\n      <td>7.710000e+02</td>\n      <td>6.870000e+02</td>\n      <td>771.000000</td>\n      <td>309.000000</td>\n      <td>771.000000</td>\n      <td>763.000000</td>\n      <td>686.000000</td>\n      <td>771.000000</td>\n      <td>687.000000</td>\n      <td>771.000000</td>\n    </tr>\n    <tr>\n      <th>mean</th>\n      <td>20181231.0</td>\n      <td>37517.988327</td>\n      <td>46051.279476</td>\n      <td>4.136521e+05</td>\n      <td>2.962514e+05</td>\n      <td>2008.866407</td>\n      <td>6.183511</td>\n      <td>133.083009</td>\n      <td>548072.112713</td>\n      <td>3.018950</td>\n      <td>21480.106355</td>\n      <td>0.138282</td>\n      <td>10.789883</td>\n    </tr>\n    <tr>\n      <th>std</th>\n      <td>0.0</td>\n      <td>2626.933052</td>\n      <td>24555.603490</td>\n      <td>6.832614e+05</td>\n      <td>5.183538e+05</td>\n      <td>5.191807</td>\n      <td>1.219567</td>\n      <td>80.164366</td>\n      <td>165882.082889</td>\n      <td>0.379692</td>\n      <td>96574.163299</td>\n      <td>0.345448</td>\n      <td>18.099722</td>\n    </tr>\n    <tr>\n      <th>min</th>\n      <td>20181231.0</td>\n      <td>27415.000000</td>\n      <td>2818.000000</td>\n      <td>5.000000e+03</td>\n      <td>2.500000e+03</td>\n      <td>2000.000000</td>\n      <td>2.070000</td>\n      <td>1.000000</td>\n      <td>233210.000000</td>\n      <td>1.000000</td>\n      <td>0.000000</td>\n      <td>0.000000</td>\n      <td>0.000000</td>\n    </tr>\n    <tr>\n      <th>25%</th>\n      <td>20181231.0</td>\n      <td>37403.000000</td>\n      <td>30303.000000</td>\n      <td>4.500000e+04</td>\n      <td>2.125000e+04</td>\n      <td>2005.000000</td>\n      <td>5.500000</td>\n      <td>84.000000</td>\n      <td>444220.000000</td>\n      <td>3.000000</td>\n      <td>0.000000</td>\n      <td>0.000000</td>\n      <td>2.000000</td>\n    </tr>\n    <tr>\n      <th>50%</th>\n      <td>20181231.0</td>\n      <td>37408.000000</td>\n      <td>37402.000000</td>\n      <td>1.500000e+05</td>\n      <td>1.162500e+05</td>\n      <td>2008.000000</td>\n      <td>6.000000</td>\n      <td>120.000000</td>\n      <td>541519.000000</td>\n      <td>3.000000</td>\n      <td>0.000000</td>\n      <td>0.000000</td>\n      <td>5.000000</td>\n    </tr>\n    <tr>\n      <th>75%</th>\n      <td>20181231.0</td>\n      <td>37421.000000</td>\n      <td>56301.000000</td>\n      <td>4.771000e+05</td>\n      <td>3.195375e+05</td>\n      <td>2014.000000</td>\n      <td>7.000000</td>\n      <td>180.000000</td>\n      <td>721110.000000</td>\n      <td>3.000000</td>\n      <td>0.000000</td>\n      <td>0.000000</td>\n      <td>12.000000</td>\n    </tr>\n    <tr>\n      <th>max</th>\n      <td>20181231.0</td>\n      <td>99999.000000</td>\n      <td>97470.000000</td>\n      <td>5.000000e+06</td>\n      <td>3.750000e+06</td>\n      <td>2019.000000</td>\n      <td>10.500000</td>\n      <td>312.000000</td>\n      <td>812990.000000</td>\n      <td>12.000000</td>\n      <td>997602.000000</td>\n      <td>1.000000</td>\n      <td>225.000000</td>\n    </tr>\n  </tbody>\n</table>\n</div>"
     },
     "execution_count": 13,
     "metadata": {},
     "output_type": "execute_result"
    }
   ],
   "source": [
    "csv_df.describe()"
   ],
   "metadata": {
    "collapsed": false
   }
  },
  {
   "cell_type": "code",
   "execution_count": null,
   "outputs": [],
   "source": [],
   "metadata": {
    "collapsed": false
   }
  }
 ],
 "metadata": {
  "kernelspec": {
   "display_name": "Python 3",
   "language": "python",
   "name": "python3"
  },
  "language_info": {
   "codemirror_mode": {
    "name": "ipython",
    "version": 2
   },
   "file_extension": ".py",
   "mimetype": "text/x-python",
   "name": "python",
   "nbconvert_exporter": "python",
   "pygments_lexer": "ipython2",
   "version": "2.7.6"
  }
 },
 "nbformat": 4,
 "nbformat_minor": 0
}
