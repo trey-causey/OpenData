{
 "cells": [
  {
   "cell_type": "code",
   "execution_count": 12,
   "metadata": {
    "collapsed": true
   },
   "outputs": [],
   "source": [
    "import pandas as pd\n",
    "# csv_df = pd.read_csv('E:\\_Datasets\\City_Court_Citations\\City_Court_Citations.csv')\n",
    "# csv_df = pd.read_csv('E:\\_Datasets\\Small_Business_Administration_Loans\\Small_Business_Administration_Loans.csv')\n",
    "# csv_df = pd.read_csv('E:\\_Datasets\\CDOT_Vehicle_Detection\\CDOT_Vehicle_Detection.csv', nrows=100000)\n",
    "# csv_df = pd.read_csv('E:\\_Datasets\\Hamilton_County_Property_Appraisal_Information\\Hamilton_County_Property_Appraisal_Information.csv', nrows=10000)\n",
    "csv_df = pd.read_csv('E:\\_Datasets\\Hamilton_County_E911_Active_Calls\\Hamilton_County_E911_Active_Calls.csv')\n"
   ]
  },
  {
   "cell_type": "code",
   "execution_count": 14,
   "outputs": [
    {
     "data": {
      "text/plain": "            latitude      longitude\ncount  266304.000000  266304.000000\nmean       35.066573     -85.229899\nstd         0.068690       0.079465\nmin        34.979092     -85.469442\n25%        35.019221     -85.290263\n50%        35.045300     -85.245974\n75%        35.095699     -85.174599\nmax        35.444383     -84.946401",
      "text/html": "<div>\n<style scoped>\n    .dataframe tbody tr th:only-of-type {\n        vertical-align: middle;\n    }\n\n    .dataframe tbody tr th {\n        vertical-align: top;\n    }\n\n    .dataframe thead th {\n        text-align: right;\n    }\n</style>\n<table border=\"1\" class=\"dataframe\">\n  <thead>\n    <tr style=\"text-align: right;\">\n      <th></th>\n      <th>latitude</th>\n      <th>longitude</th>\n    </tr>\n  </thead>\n  <tbody>\n    <tr>\n      <th>count</th>\n      <td>266304.000000</td>\n      <td>266304.000000</td>\n    </tr>\n    <tr>\n      <th>mean</th>\n      <td>35.066573</td>\n      <td>-85.229899</td>\n    </tr>\n    <tr>\n      <th>std</th>\n      <td>0.068690</td>\n      <td>0.079465</td>\n    </tr>\n    <tr>\n      <th>min</th>\n      <td>34.979092</td>\n      <td>-85.469442</td>\n    </tr>\n    <tr>\n      <th>25%</th>\n      <td>35.019221</td>\n      <td>-85.290263</td>\n    </tr>\n    <tr>\n      <th>50%</th>\n      <td>35.045300</td>\n      <td>-85.245974</td>\n    </tr>\n    <tr>\n      <th>75%</th>\n      <td>35.095699</td>\n      <td>-85.174599</td>\n    </tr>\n    <tr>\n      <th>max</th>\n      <td>35.444383</td>\n      <td>-84.946401</td>\n    </tr>\n  </tbody>\n</table>\n</div>"
     },
     "execution_count": 14,
     "metadata": {},
     "output_type": "execute_result"
    }
   ],
   "source": [
    "csv_df.describe()"
   ],
   "metadata": {
    "collapsed": false
   }
  },
  {
   "cell_type": "code",
   "execution_count": 13,
   "outputs": [],
   "source": [
    "# csv_df.to_csv('E:\\_Datasets\\CDOT_Vehicle_Detection\\CDOT_Vehicle_Detection_sample.csv', sep='|', index=False)\n",
    "csv_df.to_csv('E:\\_Datasets\\Hamilton_County_E911_Active_Calls\\Hamilton_County_E911_Active_Calls_piped.csv', sep='|', index=False)"
   ],
   "metadata": {
    "collapsed": false
   }
  },
  {
   "cell_type": "code",
   "execution_count": 11,
   "outputs": [
    {
     "name": "stdout",
     "output_type": "stream",
     "text": [
      "<class 'pandas.core.frame.DataFrame'>\n",
      "RangeIndex: 100 entries, 0 to 99\n",
      "Data columns (total 8 columns):\n",
      " #   Column         Non-Null Count  Dtype  \n",
      "---  ------         --------------  -----  \n",
      " 0   entry_id       100 non-null    object \n",
      " 1   created        100 non-null    object \n",
      " 2   agency         100 non-null    object \n",
      " 3   incident_type  100 non-null    object \n",
      " 4   address        100 non-null    object \n",
      " 5   latitude       100 non-null    float64\n",
      " 6   longitude      100 non-null    float64\n",
      " 7   location       100 non-null    object \n",
      "dtypes: float64(2), object(6)\n",
      "memory usage: 6.4+ KB\n"
     ]
    }
   ],
   "source": [
    "csv_df.info()"
   ],
   "metadata": {
    "collapsed": false
   }
  },
  {
   "cell_type": "code",
   "execution_count": 12,
   "outputs": [
    {
     "data": {
      "text/plain": "       Direction Value  Begin Time 24 Hour  End Time 24 Hour\ncount    100000.000000       100000.000000     100000.000000\nmean         67.455010           11.419977         11.432377\nstd         152.468886            7.039836          7.024672\nmin           0.000000            0.000000          0.000000\n25%           0.000000            5.000000          5.000000\n50%          13.000000           11.250000         11.250000\n75%          73.000000           17.500000         17.500000\nmax        2236.000000           23.750000         23.750000",
      "text/html": "<div>\n<style scoped>\n    .dataframe tbody tr th:only-of-type {\n        vertical-align: middle;\n    }\n\n    .dataframe tbody tr th {\n        vertical-align: top;\n    }\n\n    .dataframe thead th {\n        text-align: right;\n    }\n</style>\n<table border=\"1\" class=\"dataframe\">\n  <thead>\n    <tr style=\"text-align: right;\">\n      <th></th>\n      <th>Direction Value</th>\n      <th>Begin Time 24 Hour</th>\n      <th>End Time 24 Hour</th>\n    </tr>\n  </thead>\n  <tbody>\n    <tr>\n      <th>count</th>\n      <td>100000.000000</td>\n      <td>100000.000000</td>\n      <td>100000.000000</td>\n    </tr>\n    <tr>\n      <th>mean</th>\n      <td>67.455010</td>\n      <td>11.419977</td>\n      <td>11.432377</td>\n    </tr>\n    <tr>\n      <th>std</th>\n      <td>152.468886</td>\n      <td>7.039836</td>\n      <td>7.024672</td>\n    </tr>\n    <tr>\n      <th>min</th>\n      <td>0.000000</td>\n      <td>0.000000</td>\n      <td>0.000000</td>\n    </tr>\n    <tr>\n      <th>25%</th>\n      <td>0.000000</td>\n      <td>5.000000</td>\n      <td>5.000000</td>\n    </tr>\n    <tr>\n      <th>50%</th>\n      <td>13.000000</td>\n      <td>11.250000</td>\n      <td>11.250000</td>\n    </tr>\n    <tr>\n      <th>75%</th>\n      <td>73.000000</td>\n      <td>17.500000</td>\n      <td>17.500000</td>\n    </tr>\n    <tr>\n      <th>max</th>\n      <td>2236.000000</td>\n      <td>23.750000</td>\n      <td>23.750000</td>\n    </tr>\n  </tbody>\n</table>\n</div>"
     },
     "execution_count": 12,
     "metadata": {},
     "output_type": "execute_result"
    }
   ],
   "source": [
    "csv_df.describe()"
   ],
   "metadata": {
    "collapsed": false
   }
  },
  {
   "cell_type": "code",
   "execution_count": 11,
   "outputs": [],
   "source": [
    "csv_df['ApprovalDate'] = pd.to_datetime(csv_df['ApprovalDate'])\n",
    "csv_df['FirstDisbursementDate'] = pd.to_datetime(csv_df['FirstDisbursementDate'])\n",
    "csv_df['ChargeOffDate'] = pd.to_datetime(csv_df['ChargeOffDate'])"
   ],
   "metadata": {
    "collapsed": false
   }
  },
  {
   "cell_type": "code",
   "execution_count": 12,
   "outputs": [
    {
     "name": "stdout",
     "output_type": "stream",
     "text": [
      "<class 'pandas.core.frame.DataFrame'>\n",
      "RangeIndex: 771 entries, 0 to 770\n",
      "Data columns (total 36 columns):\n",
      " #   Column                    Non-Null Count  Dtype         \n",
      "---  ------                    --------------  -----         \n",
      " 0   AsOfDate                  771 non-null    int64         \n",
      " 1   Program                   771 non-null    object        \n",
      " 2   BorrName                  771 non-null    object        \n",
      " 3   BorrStreet                771 non-null    object        \n",
      " 4   BorrCity                  771 non-null    object        \n",
      " 5   BorrState                 771 non-null    object        \n",
      " 6   BorrZip                   771 non-null    int64         \n",
      " 7   BankName                  687 non-null    object        \n",
      " 8   BankStreet                687 non-null    object        \n",
      " 9   BankCity                  687 non-null    object        \n",
      " 10  BankState                 687 non-null    object        \n",
      " 11  BankZip                   687 non-null    float64       \n",
      " 12  GrossApproval             771 non-null    int64         \n",
      " 13  SBAGuaranteedApproval     687 non-null    float64       \n",
      " 14  ApprovalDate              771 non-null    datetime64[ns]\n",
      " 15  ApprovalFiscalYear        771 non-null    int64         \n",
      " 16  FirstDisbursementDate     708 non-null    datetime64[ns]\n",
      " 17  DeliveryMethod            687 non-null    object        \n",
      " 18  subpgmdesc                687 non-null    object        \n",
      " 19  InitialInterestRate       309 non-null    float64       \n",
      " 20  TermInMonths              771 non-null    int64         \n",
      " 21  NaicsCode                 763 non-null    float64       \n",
      " 22  NaicsDescription          763 non-null    object        \n",
      " 23  FranchiseCode             109 non-null    object        \n",
      " 24  FranchiseName             109 non-null    object        \n",
      " 25  ProjectCounty             687 non-null    object        \n",
      " 26  ProjectState              687 non-null    object        \n",
      " 27  SBADistrictOffice         687 non-null    object        \n",
      " 28  CongressionalDistrict     686 non-null    float64       \n",
      " 29  BusinessType              771 non-null    object        \n",
      " 30  LoanStatus                771 non-null    object        \n",
      " 31  ChargeOffDate             127 non-null    datetime64[ns]\n",
      " 32  GrossChargeOffAmount      771 non-null    int64         \n",
      " 33  RevolverStatus            687 non-null    float64       \n",
      " 34  JobsSupported             771 non-null    int64         \n",
      " 35  New Georeferenced Column  723 non-null    object        \n",
      "dtypes: datetime64[ns](3), float64(6), int64(7), object(20)\n",
      "memory usage: 217.0+ KB\n"
     ]
    }
   ],
   "source": [
    "csv_df.info()"
   ],
   "metadata": {
    "collapsed": false
   }
  },
  {
   "cell_type": "code",
   "execution_count": 13,
   "outputs": [
    {
     "data": {
      "text/plain": "         AsOfDate       BorrZip       BankZip  GrossApproval  \\\ncount       771.0    771.000000    687.000000   7.710000e+02   \nmean   20181231.0  37517.988327  46051.279476   4.136521e+05   \nstd           0.0   2626.933052  24555.603490   6.832614e+05   \nmin    20181231.0  27415.000000   2818.000000   5.000000e+03   \n25%    20181231.0  37403.000000  30303.000000   4.500000e+04   \n50%    20181231.0  37408.000000  37402.000000   1.500000e+05   \n75%    20181231.0  37421.000000  56301.000000   4.771000e+05   \nmax    20181231.0  99999.000000  97470.000000   5.000000e+06   \n\n       SBAGuaranteedApproval  ApprovalFiscalYear  InitialInterestRate  \\\ncount           6.870000e+02          771.000000           309.000000   \nmean            2.962514e+05         2008.866407             6.183511   \nstd             5.183538e+05            5.191807             1.219567   \nmin             2.500000e+03         2000.000000             2.070000   \n25%             2.125000e+04         2005.000000             5.500000   \n50%             1.162500e+05         2008.000000             6.000000   \n75%             3.195375e+05         2014.000000             7.000000   \nmax             3.750000e+06         2019.000000            10.500000   \n\n       TermInMonths      NaicsCode  CongressionalDistrict  \\\ncount    771.000000     763.000000             686.000000   \nmean     133.083009  548072.112713               3.018950   \nstd       80.164366  165882.082889               0.379692   \nmin        1.000000  233210.000000               1.000000   \n25%       84.000000  444220.000000               3.000000   \n50%      120.000000  541519.000000               3.000000   \n75%      180.000000  721110.000000               3.000000   \nmax      312.000000  812990.000000              12.000000   \n\n       GrossChargeOffAmount  RevolverStatus  JobsSupported  \ncount            771.000000      687.000000     771.000000  \nmean           21480.106355        0.138282      10.789883  \nstd            96574.163299        0.345448      18.099722  \nmin                0.000000        0.000000       0.000000  \n25%                0.000000        0.000000       2.000000  \n50%                0.000000        0.000000       5.000000  \n75%                0.000000        0.000000      12.000000  \nmax           997602.000000        1.000000     225.000000  ",
      "text/html": "<div>\n<style scoped>\n    .dataframe tbody tr th:only-of-type {\n        vertical-align: middle;\n    }\n\n    .dataframe tbody tr th {\n        vertical-align: top;\n    }\n\n    .dataframe thead th {\n        text-align: right;\n    }\n</style>\n<table border=\"1\" class=\"dataframe\">\n  <thead>\n    <tr style=\"text-align: right;\">\n      <th></th>\n      <th>AsOfDate</th>\n      <th>BorrZip</th>\n      <th>BankZip</th>\n      <th>GrossApproval</th>\n      <th>SBAGuaranteedApproval</th>\n      <th>ApprovalFiscalYear</th>\n      <th>InitialInterestRate</th>\n      <th>TermInMonths</th>\n      <th>NaicsCode</th>\n      <th>CongressionalDistrict</th>\n      <th>GrossChargeOffAmount</th>\n      <th>RevolverStatus</th>\n      <th>JobsSupported</th>\n    </tr>\n  </thead>\n  <tbody>\n    <tr>\n      <th>count</th>\n      <td>771.0</td>\n      <td>771.000000</td>\n      <td>687.000000</td>\n      <td>7.710000e+02</td>\n      <td>6.870000e+02</td>\n      <td>771.000000</td>\n      <td>309.000000</td>\n      <td>771.000000</td>\n      <td>763.000000</td>\n      <td>686.000000</td>\n      <td>771.000000</td>\n      <td>687.000000</td>\n      <td>771.000000</td>\n    </tr>\n    <tr>\n      <th>mean</th>\n      <td>20181231.0</td>\n      <td>37517.988327</td>\n      <td>46051.279476</td>\n      <td>4.136521e+05</td>\n      <td>2.962514e+05</td>\n      <td>2008.866407</td>\n      <td>6.183511</td>\n      <td>133.083009</td>\n      <td>548072.112713</td>\n      <td>3.018950</td>\n      <td>21480.106355</td>\n      <td>0.138282</td>\n      <td>10.789883</td>\n    </tr>\n    <tr>\n      <th>std</th>\n      <td>0.0</td>\n      <td>2626.933052</td>\n      <td>24555.603490</td>\n      <td>6.832614e+05</td>\n      <td>5.183538e+05</td>\n      <td>5.191807</td>\n      <td>1.219567</td>\n      <td>80.164366</td>\n      <td>165882.082889</td>\n      <td>0.379692</td>\n      <td>96574.163299</td>\n      <td>0.345448</td>\n      <td>18.099722</td>\n    </tr>\n    <tr>\n      <th>min</th>\n      <td>20181231.0</td>\n      <td>27415.000000</td>\n      <td>2818.000000</td>\n      <td>5.000000e+03</td>\n      <td>2.500000e+03</td>\n      <td>2000.000000</td>\n      <td>2.070000</td>\n      <td>1.000000</td>\n      <td>233210.000000</td>\n      <td>1.000000</td>\n      <td>0.000000</td>\n      <td>0.000000</td>\n      <td>0.000000</td>\n    </tr>\n    <tr>\n      <th>25%</th>\n      <td>20181231.0</td>\n      <td>37403.000000</td>\n      <td>30303.000000</td>\n      <td>4.500000e+04</td>\n      <td>2.125000e+04</td>\n      <td>2005.000000</td>\n      <td>5.500000</td>\n      <td>84.000000</td>\n      <td>444220.000000</td>\n      <td>3.000000</td>\n      <td>0.000000</td>\n      <td>0.000000</td>\n      <td>2.000000</td>\n    </tr>\n    <tr>\n      <th>50%</th>\n      <td>20181231.0</td>\n      <td>37408.000000</td>\n      <td>37402.000000</td>\n      <td>1.500000e+05</td>\n      <td>1.162500e+05</td>\n      <td>2008.000000</td>\n      <td>6.000000</td>\n      <td>120.000000</td>\n      <td>541519.000000</td>\n      <td>3.000000</td>\n      <td>0.000000</td>\n      <td>0.000000</td>\n      <td>5.000000</td>\n    </tr>\n    <tr>\n      <th>75%</th>\n      <td>20181231.0</td>\n      <td>37421.000000</td>\n      <td>56301.000000</td>\n      <td>4.771000e+05</td>\n      <td>3.195375e+05</td>\n      <td>2014.000000</td>\n      <td>7.000000</td>\n      <td>180.000000</td>\n      <td>721110.000000</td>\n      <td>3.000000</td>\n      <td>0.000000</td>\n      <td>0.000000</td>\n      <td>12.000000</td>\n    </tr>\n    <tr>\n      <th>max</th>\n      <td>20181231.0</td>\n      <td>99999.000000</td>\n      <td>97470.000000</td>\n      <td>5.000000e+06</td>\n      <td>3.750000e+06</td>\n      <td>2019.000000</td>\n      <td>10.500000</td>\n      <td>312.000000</td>\n      <td>812990.000000</td>\n      <td>12.000000</td>\n      <td>997602.000000</td>\n      <td>1.000000</td>\n      <td>225.000000</td>\n    </tr>\n  </tbody>\n</table>\n</div>"
     },
     "execution_count": 13,
     "metadata": {},
     "output_type": "execute_result"
    }
   ],
   "source": [
    "csv_df.describe()"
   ],
   "metadata": {
    "collapsed": false
   }
  },
  {
   "cell_type": "code",
   "execution_count": null,
   "outputs": [],
   "source": [],
   "metadata": {
    "collapsed": false
   }
  }
 ],
 "metadata": {
  "kernelspec": {
   "display_name": "Python 3",
   "language": "python",
   "name": "python3"
  },
  "language_info": {
   "codemirror_mode": {
    "name": "ipython",
    "version": 2
   },
   "file_extension": ".py",
   "mimetype": "text/x-python",
   "name": "python",
   "nbconvert_exporter": "python",
   "pygments_lexer": "ipython2",
   "version": "2.7.6"
  }
 },
 "nbformat": 4,
 "nbformat_minor": 0
}
