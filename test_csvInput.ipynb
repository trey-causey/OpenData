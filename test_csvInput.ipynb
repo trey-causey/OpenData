{
 "cells": [
  {
   "cell_type": "code",
   "execution_count": 1,
   "metadata": {
    "collapsed": true
   },
   "outputs": [
    {
     "name": "stderr",
     "output_type": "stream",
     "text": [
      "C:\\Users\\TJC\\AppData\\Local\\Temp\\ipykernel_51628\\2635147430.py:2: DtypeWarning: Columns (3,5,8,17,71) have mixed types. Specify dtype option on import or set low_memory=False.\n",
      "  csvdf = pd.read_csv('E:\\_Datasets\\Hamilton_County_Property_Appraisal_Information\\Hamilton_County_Property_Appraisal_Information.csv')\n"
     ]
    }
   ],
   "source": [
    "import pandas as pd\n",
    "csvdf = pd.read_csv('E:\\_Datasets\\Hamilton_County_Property_Appraisal_Information\\Hamilton_County_Property_Appraisal_Information.csv')"
   ]
  },
  {
   "cell_type": "code",
   "execution_count": 2,
   "outputs": [
    {
     "name": "stdout",
     "output_type": "stream",
     "text": [
      "<class 'pandas.core.frame.DataFrame'>\n",
      "RangeIndex: 156913 entries, 0 to 156912\n",
      "Data columns (total 78 columns):\n",
      " #   Column            Non-Null Count   Dtype  \n",
      "---  ------            --------------   -----  \n",
      " 0   GISLink           156899 non-null  object \n",
      " 1   OwnerName1        156913 non-null  object \n",
      " 2   OwnerName2        24849 non-null   object \n",
      " 3   OwnerName3        42 non-null      object \n",
      " 4   PropStNum         146587 non-null  float64\n",
      " 5   PropDirPfx        12 non-null      object \n",
      " 6   PropStName        156896 non-null  object \n",
      " 7   PropSfx           155823 non-null  object \n",
      " 8   PropAddrUnit      1159 non-null    object \n",
      " 9   Map               156913 non-null  object \n",
      " 10  Group             137409 non-null  object \n",
      " 11  Parcel            156913 non-null  object \n",
      " 12  TaxMapNumber      156913 non-null  object \n",
      " 13  MailStNum         0 non-null       float64\n",
      " 14  MailStDirPfx      0 non-null       float64\n",
      " 15  MailStName        156905 non-null  object \n",
      " 16  MailTypeSfx       0 non-null       float64\n",
      " 17  MailUnit          11 non-null      object \n",
      " 18  MailAddrLine2     981 non-null     object \n",
      " 19  MailCity          156911 non-null  object \n",
      " 20  MailState         156892 non-null  object \n",
      " 21  MailZip           156902 non-null  object \n",
      " 22  LegalDesc         156911 non-null  object \n",
      " 23  LotDim1           0 non-null       float64\n",
      " 24  LotDim2           0 non-null       float64\n",
      " 25  CalcAcres         156176 non-null  float64\n",
      " 26  MapAcres          0 non-null       float64\n",
      " 27  DeedAcres         0 non-null       float64\n",
      " 28  LUCode            156912 non-null  float64\n",
      " 29  NeighborhoodCode  156577 non-null  object \n",
      " 30  LandValue         155248 non-null  float64\n",
      " 31  BuildingValue     130415 non-null  float64\n",
      " 32  AppraisedValue    155671 non-null  float64\n",
      " 33  AssessedValue     150605 non-null  float64\n",
      " 34  District          156913 non-null  object \n",
      " 35  ControlMap        0 non-null       float64\n",
      " 36  Zoning            96350 non-null   object \n",
      " 37  PropType          156913 non-null  int64  \n",
      " 38  ExemptCode        5168 non-null    object \n",
      " 39  Plat1Book         117125 non-null  object \n",
      " 40  Plat1Page         117040 non-null  object \n",
      " 41  Plat1PG           0 non-null       float64\n",
      " 42  Plat1Lot          113961 non-null  object \n",
      " 43  Plat2Book         0 non-null       float64\n",
      " 44  Plat2PG           0 non-null       float64\n",
      " 45  Plat2Lot          0 non-null       float64\n",
      " 46  Sale1Year         156913 non-null  int64  \n",
      " 47  Sale1Month        156913 non-null  int64  \n",
      " 48  Sale1Day          156913 non-null  int64  \n",
      " 49  Sale1Book         156423 non-null  object \n",
      " 50  Sale1Page         156422 non-null  object \n",
      " 51  Sale1Type         88221 non-null   object \n",
      " 52  Sale1Conf         52993 non-null   object \n",
      " 53  Sale2Year         156913 non-null  int64  \n",
      " 54  Sale2Month        156913 non-null  int64  \n",
      " 55  Sale2Day          156913 non-null  int64  \n",
      " 56  Sale2Book         145541 non-null  object \n",
      " 57  Sale2Page         145540 non-null  object \n",
      " 58  Sale2Type         112705 non-null  object \n",
      " 59  Sale2Conf         76608 non-null   object \n",
      " 60  Sale3Year         156913 non-null  int64  \n",
      " 61  Sale3Month        156913 non-null  int64  \n",
      " 62  Sale3Day          156913 non-null  int64  \n",
      " 63  Sale3Book         123166 non-null  object \n",
      " 64  Sale3Page         123165 non-null  object \n",
      " 65  Sale3Type         106075 non-null  object \n",
      " 66  Sale3Conf         77318 non-null   object \n",
      " 67  Sale4Year         156913 non-null  int64  \n",
      " 68  Sale4Month        156913 non-null  int64  \n",
      " 69  Sale4Day          156913 non-null  int64  \n",
      " 70  Sale4Book         96480 non-null   object \n",
      " 71  Sale4Page         96479 non-null   object \n",
      " 72  Sale4Type         87539 non-null   object \n",
      " 73  Sale4Conf         66515 non-null   object \n",
      " 74  Subdivision       99585 non-null   object \n",
      " 75  SortDist          0 non-null       float64\n",
      " 76  ReferenceNum      156913 non-null  int64  \n",
      " 77  CurrentUse        156913 non-null  object \n",
      "dtypes: float64(20), int64(14), object(44)\n",
      "memory usage: 93.4+ MB\n"
     ]
    }
   ],
   "source": [
    "csvdf.info()"
   ],
   "metadata": {
    "collapsed": false
   }
  },
  {
   "cell_type": "code",
   "execution_count": 3,
   "outputs": [
    {
     "data": {
      "text/plain": "           PropStNum  MailStNum  MailStDirPfx  MailTypeSfx  LotDim1  LotDim2  \\\ncount  146587.000000        0.0           0.0          0.0      0.0      0.0   \nmean     4052.525879        NaN           NaN          NaN      NaN      NaN   \nstd      3388.082987        NaN           NaN          NaN      NaN      NaN   \nmin         0.000000        NaN           NaN          NaN      NaN      NaN   \n25%      1118.000000        NaN           NaN          NaN      NaN      NaN   \n50%      3205.000000        NaN           NaN          NaN      NaN      NaN   \n75%      6685.000000        NaN           NaN          NaN      NaN      NaN   \nmax     17265.000000        NaN           NaN          NaN      NaN      NaN   \n\n           CalcAcres  MapAcres  DeedAcres         LUCode  ...     Sale2Month  \\\ncount  156176.000000       0.0        0.0  156912.000000  ...  156913.000000   \nmean        4.240765       NaN        NaN     260.325405  ...       5.738868   \nstd       275.724791       NaN        NaN     294.518113  ...       3.620037   \nmin         0.010000       NaN        NaN      11.000000  ...       1.000000   \n25%         1.000000       NaN        NaN     111.000000  ...       2.000000   \n50%         1.000000       NaN        NaN     111.000000  ...       6.000000   \n75%         1.000000       NaN        NaN     116.000000  ...       9.000000   \nmax     74052.000000       NaN        NaN     960.000000  ...      71.000000   \n\n            Sale2Day      Sale3Year     Sale3Month       Sale3Day  \\\ncount  156913.000000  156913.000000  156913.000000  156913.000000   \nmean       14.239783    1973.662233       4.901270      11.702593   \nstd        10.094607      41.876073       3.753151      10.430137   \nmin         1.000000     196.000000       1.000000       1.000000   \n25%         4.000000    1961.000000       1.000000       1.000000   \n50%        14.000000    1991.000000       4.000000      10.000000   \n75%        23.000000    2004.000000       8.000000      21.000000   \nmax        51.000000    2019.000000      90.000000      51.000000   \n\n           Sale4Year     Sale4Month       Sale4Day  SortDist   ReferenceNum  \ncount  156913.000000  156913.000000  156913.000000       0.0  156913.000000  \nmean     1955.535883       3.987369       9.004512       NaN   78455.550630  \nstd        46.393360       3.680628      10.116635       NaN   45297.515669  \nmin       190.000000       0.000000       1.000000       NaN       1.000000  \n25%      1900.000000       1.000000       1.000000       NaN   39226.000000  \n50%      1977.000000       2.000000       1.000000       NaN   78456.000000  \n75%      1997.000000       7.000000      17.000000       NaN  117684.000000  \nmax      2019.000000      80.000000      90.000000       NaN  156913.000000  \n\n[8 rows x 34 columns]",
      "text/html": "<div>\n<style scoped>\n    .dataframe tbody tr th:only-of-type {\n        vertical-align: middle;\n    }\n\n    .dataframe tbody tr th {\n        vertical-align: top;\n    }\n\n    .dataframe thead th {\n        text-align: right;\n    }\n</style>\n<table border=\"1\" class=\"dataframe\">\n  <thead>\n    <tr style=\"text-align: right;\">\n      <th></th>\n      <th>PropStNum</th>\n      <th>MailStNum</th>\n      <th>MailStDirPfx</th>\n      <th>MailTypeSfx</th>\n      <th>LotDim1</th>\n      <th>LotDim2</th>\n      <th>CalcAcres</th>\n      <th>MapAcres</th>\n      <th>DeedAcres</th>\n      <th>LUCode</th>\n      <th>...</th>\n      <th>Sale2Month</th>\n      <th>Sale2Day</th>\n      <th>Sale3Year</th>\n      <th>Sale3Month</th>\n      <th>Sale3Day</th>\n      <th>Sale4Year</th>\n      <th>Sale4Month</th>\n      <th>Sale4Day</th>\n      <th>SortDist</th>\n      <th>ReferenceNum</th>\n    </tr>\n  </thead>\n  <tbody>\n    <tr>\n      <th>count</th>\n      <td>146587.000000</td>\n      <td>0.0</td>\n      <td>0.0</td>\n      <td>0.0</td>\n      <td>0.0</td>\n      <td>0.0</td>\n      <td>156176.000000</td>\n      <td>0.0</td>\n      <td>0.0</td>\n      <td>156912.000000</td>\n      <td>...</td>\n      <td>156913.000000</td>\n      <td>156913.000000</td>\n      <td>156913.000000</td>\n      <td>156913.000000</td>\n      <td>156913.000000</td>\n      <td>156913.000000</td>\n      <td>156913.000000</td>\n      <td>156913.000000</td>\n      <td>0.0</td>\n      <td>156913.000000</td>\n    </tr>\n    <tr>\n      <th>mean</th>\n      <td>4052.525879</td>\n      <td>NaN</td>\n      <td>NaN</td>\n      <td>NaN</td>\n      <td>NaN</td>\n      <td>NaN</td>\n      <td>4.240765</td>\n      <td>NaN</td>\n      <td>NaN</td>\n      <td>260.325405</td>\n      <td>...</td>\n      <td>5.738868</td>\n      <td>14.239783</td>\n      <td>1973.662233</td>\n      <td>4.901270</td>\n      <td>11.702593</td>\n      <td>1955.535883</td>\n      <td>3.987369</td>\n      <td>9.004512</td>\n      <td>NaN</td>\n      <td>78455.550630</td>\n    </tr>\n    <tr>\n      <th>std</th>\n      <td>3388.082987</td>\n      <td>NaN</td>\n      <td>NaN</td>\n      <td>NaN</td>\n      <td>NaN</td>\n      <td>NaN</td>\n      <td>275.724791</td>\n      <td>NaN</td>\n      <td>NaN</td>\n      <td>294.518113</td>\n      <td>...</td>\n      <td>3.620037</td>\n      <td>10.094607</td>\n      <td>41.876073</td>\n      <td>3.753151</td>\n      <td>10.430137</td>\n      <td>46.393360</td>\n      <td>3.680628</td>\n      <td>10.116635</td>\n      <td>NaN</td>\n      <td>45297.515669</td>\n    </tr>\n    <tr>\n      <th>min</th>\n      <td>0.000000</td>\n      <td>NaN</td>\n      <td>NaN</td>\n      <td>NaN</td>\n      <td>NaN</td>\n      <td>NaN</td>\n      <td>0.010000</td>\n      <td>NaN</td>\n      <td>NaN</td>\n      <td>11.000000</td>\n      <td>...</td>\n      <td>1.000000</td>\n      <td>1.000000</td>\n      <td>196.000000</td>\n      <td>1.000000</td>\n      <td>1.000000</td>\n      <td>190.000000</td>\n      <td>0.000000</td>\n      <td>1.000000</td>\n      <td>NaN</td>\n      <td>1.000000</td>\n    </tr>\n    <tr>\n      <th>25%</th>\n      <td>1118.000000</td>\n      <td>NaN</td>\n      <td>NaN</td>\n      <td>NaN</td>\n      <td>NaN</td>\n      <td>NaN</td>\n      <td>1.000000</td>\n      <td>NaN</td>\n      <td>NaN</td>\n      <td>111.000000</td>\n      <td>...</td>\n      <td>2.000000</td>\n      <td>4.000000</td>\n      <td>1961.000000</td>\n      <td>1.000000</td>\n      <td>1.000000</td>\n      <td>1900.000000</td>\n      <td>1.000000</td>\n      <td>1.000000</td>\n      <td>NaN</td>\n      <td>39226.000000</td>\n    </tr>\n    <tr>\n      <th>50%</th>\n      <td>3205.000000</td>\n      <td>NaN</td>\n      <td>NaN</td>\n      <td>NaN</td>\n      <td>NaN</td>\n      <td>NaN</td>\n      <td>1.000000</td>\n      <td>NaN</td>\n      <td>NaN</td>\n      <td>111.000000</td>\n      <td>...</td>\n      <td>6.000000</td>\n      <td>14.000000</td>\n      <td>1991.000000</td>\n      <td>4.000000</td>\n      <td>10.000000</td>\n      <td>1977.000000</td>\n      <td>2.000000</td>\n      <td>1.000000</td>\n      <td>NaN</td>\n      <td>78456.000000</td>\n    </tr>\n    <tr>\n      <th>75%</th>\n      <td>6685.000000</td>\n      <td>NaN</td>\n      <td>NaN</td>\n      <td>NaN</td>\n      <td>NaN</td>\n      <td>NaN</td>\n      <td>1.000000</td>\n      <td>NaN</td>\n      <td>NaN</td>\n      <td>116.000000</td>\n      <td>...</td>\n      <td>9.000000</td>\n      <td>23.000000</td>\n      <td>2004.000000</td>\n      <td>8.000000</td>\n      <td>21.000000</td>\n      <td>1997.000000</td>\n      <td>7.000000</td>\n      <td>17.000000</td>\n      <td>NaN</td>\n      <td>117684.000000</td>\n    </tr>\n    <tr>\n      <th>max</th>\n      <td>17265.000000</td>\n      <td>NaN</td>\n      <td>NaN</td>\n      <td>NaN</td>\n      <td>NaN</td>\n      <td>NaN</td>\n      <td>74052.000000</td>\n      <td>NaN</td>\n      <td>NaN</td>\n      <td>960.000000</td>\n      <td>...</td>\n      <td>71.000000</td>\n      <td>51.000000</td>\n      <td>2019.000000</td>\n      <td>90.000000</td>\n      <td>51.000000</td>\n      <td>2019.000000</td>\n      <td>80.000000</td>\n      <td>90.000000</td>\n      <td>NaN</td>\n      <td>156913.000000</td>\n    </tr>\n  </tbody>\n</table>\n<p>8 rows × 34 columns</p>\n</div>"
     },
     "execution_count": 3,
     "metadata": {},
     "output_type": "execute_result"
    }
   ],
   "source": [
    "csvdf.describe()"
   ],
   "metadata": {
    "collapsed": false
   }
  },
  {
   "cell_type": "code",
   "execution_count": null,
   "outputs": [],
   "source": [],
   "metadata": {
    "collapsed": false
   }
  }
 ],
 "metadata": {
  "kernelspec": {
   "display_name": "Python 3",
   "language": "python",
   "name": "python3"
  },
  "language_info": {
   "codemirror_mode": {
    "name": "ipython",
    "version": 2
   },
   "file_extension": ".py",
   "mimetype": "text/x-python",
   "name": "python",
   "nbconvert_exporter": "python",
   "pygments_lexer": "ipython2",
   "version": "2.7.6"
  }
 },
 "nbformat": 4,
 "nbformat_minor": 0
}
