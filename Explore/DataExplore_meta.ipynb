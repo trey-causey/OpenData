{
 "cells": [
  {
   "cell_type": "code",
   "execution_count": 26,
   "metadata": {
    "collapsed": true
   },
   "outputs": [],
   "source": [
    "import requests\n",
    "import json\n",
    "import pandas as pd\n",
    "# url = \"https://www.chattadata.org/resource/cged-2r5q.json\"\n",
    "# url = \"https://www.chattadata.org/resource/t8ph-y8y5.json\"\n",
    "# url = \"https://www.chattadata.org/resource/4qjh-fdm6.json\"\n",
    "url = \"https://www.chattadata.org/resource/4qjh-fdm6.json?$$app_token=FCT6DKqNfDQlV4eUvvfiF1cTz\"\n",
    "# url = \"https://www.chattadata.org/resource/krpq-4iht.json\"\n",
    "noAuthResp = requests.get(url)\n",
    "noAuthResp.raise_for_status()\n",
    "noAuthData = noAuthResp.json()\n",
    "# noAuthData"
   ]
  },
  {
   "cell_type": "code",
   "execution_count": 27,
   "outputs": [],
   "source": [
    "nad_df = pd.DataFrame(noAuthData)\n",
    "# rslt_df = nad_df[nad_df['most_recent_date']== 'Y' ]"
   ],
   "metadata": {
    "collapsed": false
   }
  },
  {
   "cell_type": "code",
   "execution_count": 29,
   "outputs": [
    {
     "data": {
      "text/plain": "1000"
     },
     "execution_count": 29,
     "metadata": {},
     "output_type": "execute_result"
    }
   ],
   "source": [
    "nad_df['uid'].count()"
   ],
   "metadata": {
    "collapsed": false
   }
  },
  {
   "cell_type": "code",
   "execution_count": 28,
   "outputs": [
    {
     "data": {
      "text/plain": "           uid          checkpoint_date  \\\n0    kr6e-kxt8  2023-05-17T00:00:00.000   \n1    kxpd-fg9r  2023-05-21T00:00:00.000   \n2    tm4p-s7d5  2021-04-14T00:00:00.000   \n3    tm4p-s7d5  2021-06-01T00:00:00.000   \n4    vmkj-gig8  2022-03-15T00:00:00.000   \n..         ...                      ...   \n995  26ew-vrus  2022-02-21T00:00:00.000   \n996  26ew-vrus  2022-02-22T00:00:00.000   \n997  26ew-vrus  2022-02-24T00:00:00.000   \n998  26ew-vrus  2022-02-25T00:00:00.000   \n999  26ew-vrus  2022-02-26T00:00:00.000   \n\n                                         name            owner  owner_uid  \\\n0                            Police Districts     Tim Moreland  iiwc-mbju   \n1                      Vehicle Speed T-Scores   Andrew Sevigny  t226-dtne   \n2                       Injury On Duty Detail  Starla Benjamin  myh4-885x   \n3                       Injury On Duty Detail  Starla Benjamin  myh4-885x   \n4                          wallpaper_banner-3  Dominic Cicilio  n6dz-78i2   \n..                                        ...              ...        ...   \n995  Public Works Training Course by Employee        ODEXTRACT  nfms-ud8q   \n996  Public Works Training Course by Employee        ODEXTRACT  nfms-ud8q   \n997  Public Works Training Course by Employee        ODEXTRACT  nfms-ud8q   \n998  Public Works Training Course by Employee        ODEXTRACT  nfms-ud8q   \n999  Public Works Training Course by Employee        ODEXTRACT  nfms-ud8q   \n\n    publication_stage audience approval_status provenance     type  ...  \\\n0           published     site       not_ready   official  dataset  ...   \n1           published     site       not_ready   official  dataset  ...   \n2           published  private       not_ready   official  dataset  ...   \n3           published  private       not_ready   official  dataset  ...   \n4           published     site       not_ready   official  dataset  ...   \n..                ...      ...             ...        ...      ...  ...   \n995         published  private       not_ready   official  dataset  ...   \n996         published  private       not_ready   official  dataset  ...   \n997         published  private       not_ready   official  dataset  ...   \n998         published  private       not_ready   official  dataset  ...   \n999         published  private       not_ready   official  dataset  ...   \n\n    internal_how_often_are_data public_public_dataset_contact  \\\n0                           NaN                           NaN   \n1                     As Needed      opendata@chattanooga.gov   \n2                           NaN                           NaN   \n3                           NaN                           NaN   \n4                           NaN                           NaN   \n..                          ...                           ...   \n995                       Daily      opendata@chattanooga.gov   \n996                       Daily      opendata@chattanooga.gov   \n997                       Daily      opendata@chattanooga.gov   \n998                       Daily      opendata@chattanooga.gov   \n999                       Daily      opendata@chattanooga.gov   \n\n     internal_data_steward_name  \\\n0                           NaN   \n1     odextract@chattanooga.gov   \n2                           NaN   \n3                           NaN   \n4                           NaN   \n..                          ...   \n995                 Ryan Wedell   \n996                 Ryan Wedell   \n997                 Ryan Wedell   \n998                 Ryan Wedell   \n999                 Ryan Wedell   \n\n                          internal_dataset_sensitivity  \\\n0                                                  NaN   \n1            Internal - Shared with all city employees   \n2                                                  NaN   \n3                                                  NaN   \n4                                                  NaN   \n..                                                 ...   \n995  Private Only - Shared with specific teams and ...   \n996  Private Only - Shared with specific teams and ...   \n997  Private Only - Shared with specific teams and ...   \n998  Private Only - Shared with specific teams and ...   \n999  Private Only - Shared with specific teams and ...   \n\n    internal_data_steward_email  \\\n0                           NaN   \n1     odextract@chattanooga.gov   \n2                           NaN   \n3                           NaN   \n4                           NaN   \n..                          ...   \n995    opendata@chattanooga.gov   \n996    opendata@chattanooga.gov   \n997    opendata@chattanooga.gov   \n998    opendata@chattanooga.gov   \n999    opendata@chattanooga.gov   \n\n                                                   url creation_date_utc  \\\n0                                                  NaN               NaN   \n1                                                  NaN               NaN   \n2    {'url': 'https://internal.chattadata.org/d/tm4...               NaN   \n3    {'url': 'https://internal.chattadata.org/d/tm4...               NaN   \n4                                                  NaN               NaN   \n..                                                 ...               ...   \n995                                                NaN               NaN   \n996                                                NaN               NaN   \n997                                                NaN               NaN   \n998                                                NaN               NaN   \n999                                                NaN               NaN   \n\n    last_metadata_updated_date last_data_updated_date_utc  \\\n0                          NaN                        NaN   \n1                          NaN                        NaN   \n2                          NaN                        NaN   \n3                          NaN                        NaN   \n4                          NaN                        NaN   \n..                         ...                        ...   \n995                        NaN                        NaN   \n996                        NaN                        NaN   \n997                        NaN                        NaN   \n998                        NaN                        NaN   \n999                        NaN                        NaN   \n\n                                        tags  \n0                                        NaN  \n1                                        NaN  \n2                                        NaN  \n3                                        NaN  \n4                                        NaN  \n..                                       ...  \n995  public works,pw,training,courses,course  \n996  public works,pw,training,courses,course  \n997  public works,pw,training,courses,course  \n998  public works,pw,training,courses,course  \n999  public works,pw,training,courses,course  \n\n[1000 rows x 33 columns]",
      "text/html": "<div>\n<style scoped>\n    .dataframe tbody tr th:only-of-type {\n        vertical-align: middle;\n    }\n\n    .dataframe tbody tr th {\n        vertical-align: top;\n    }\n\n    .dataframe thead th {\n        text-align: right;\n    }\n</style>\n<table border=\"1\" class=\"dataframe\">\n  <thead>\n    <tr style=\"text-align: right;\">\n      <th></th>\n      <th>uid</th>\n      <th>checkpoint_date</th>\n      <th>name</th>\n      <th>owner</th>\n      <th>owner_uid</th>\n      <th>publication_stage</th>\n      <th>audience</th>\n      <th>approval_status</th>\n      <th>provenance</th>\n      <th>type</th>\n      <th>...</th>\n      <th>internal_how_often_are_data</th>\n      <th>public_public_dataset_contact</th>\n      <th>internal_data_steward_name</th>\n      <th>internal_dataset_sensitivity</th>\n      <th>internal_data_steward_email</th>\n      <th>url</th>\n      <th>creation_date_utc</th>\n      <th>last_metadata_updated_date</th>\n      <th>last_data_updated_date_utc</th>\n      <th>tags</th>\n    </tr>\n  </thead>\n  <tbody>\n    <tr>\n      <th>0</th>\n      <td>kr6e-kxt8</td>\n      <td>2023-05-17T00:00:00.000</td>\n      <td>Police Districts</td>\n      <td>Tim Moreland</td>\n      <td>iiwc-mbju</td>\n      <td>published</td>\n      <td>site</td>\n      <td>not_ready</td>\n      <td>official</td>\n      <td>dataset</td>\n      <td>...</td>\n      <td>NaN</td>\n      <td>NaN</td>\n      <td>NaN</td>\n      <td>NaN</td>\n      <td>NaN</td>\n      <td>NaN</td>\n      <td>NaN</td>\n      <td>NaN</td>\n      <td>NaN</td>\n      <td>NaN</td>\n    </tr>\n    <tr>\n      <th>1</th>\n      <td>kxpd-fg9r</td>\n      <td>2023-05-21T00:00:00.000</td>\n      <td>Vehicle Speed T-Scores</td>\n      <td>Andrew Sevigny</td>\n      <td>t226-dtne</td>\n      <td>published</td>\n      <td>site</td>\n      <td>not_ready</td>\n      <td>official</td>\n      <td>dataset</td>\n      <td>...</td>\n      <td>As Needed</td>\n      <td>opendata@chattanooga.gov</td>\n      <td>odextract@chattanooga.gov</td>\n      <td>Internal - Shared with all city employees</td>\n      <td>odextract@chattanooga.gov</td>\n      <td>NaN</td>\n      <td>NaN</td>\n      <td>NaN</td>\n      <td>NaN</td>\n      <td>NaN</td>\n    </tr>\n    <tr>\n      <th>2</th>\n      <td>tm4p-s7d5</td>\n      <td>2021-04-14T00:00:00.000</td>\n      <td>Injury On Duty Detail</td>\n      <td>Starla Benjamin</td>\n      <td>myh4-885x</td>\n      <td>published</td>\n      <td>private</td>\n      <td>not_ready</td>\n      <td>official</td>\n      <td>dataset</td>\n      <td>...</td>\n      <td>NaN</td>\n      <td>NaN</td>\n      <td>NaN</td>\n      <td>NaN</td>\n      <td>NaN</td>\n      <td>{'url': 'https://internal.chattadata.org/d/tm4...</td>\n      <td>NaN</td>\n      <td>NaN</td>\n      <td>NaN</td>\n      <td>NaN</td>\n    </tr>\n    <tr>\n      <th>3</th>\n      <td>tm4p-s7d5</td>\n      <td>2021-06-01T00:00:00.000</td>\n      <td>Injury On Duty Detail</td>\n      <td>Starla Benjamin</td>\n      <td>myh4-885x</td>\n      <td>published</td>\n      <td>private</td>\n      <td>not_ready</td>\n      <td>official</td>\n      <td>dataset</td>\n      <td>...</td>\n      <td>NaN</td>\n      <td>NaN</td>\n      <td>NaN</td>\n      <td>NaN</td>\n      <td>NaN</td>\n      <td>{'url': 'https://internal.chattadata.org/d/tm4...</td>\n      <td>NaN</td>\n      <td>NaN</td>\n      <td>NaN</td>\n      <td>NaN</td>\n    </tr>\n    <tr>\n      <th>4</th>\n      <td>vmkj-gig8</td>\n      <td>2022-03-15T00:00:00.000</td>\n      <td>wallpaper_banner-3</td>\n      <td>Dominic Cicilio</td>\n      <td>n6dz-78i2</td>\n      <td>published</td>\n      <td>site</td>\n      <td>not_ready</td>\n      <td>official</td>\n      <td>dataset</td>\n      <td>...</td>\n      <td>NaN</td>\n      <td>NaN</td>\n      <td>NaN</td>\n      <td>NaN</td>\n      <td>NaN</td>\n      <td>NaN</td>\n      <td>NaN</td>\n      <td>NaN</td>\n      <td>NaN</td>\n      <td>NaN</td>\n    </tr>\n    <tr>\n      <th>...</th>\n      <td>...</td>\n      <td>...</td>\n      <td>...</td>\n      <td>...</td>\n      <td>...</td>\n      <td>...</td>\n      <td>...</td>\n      <td>...</td>\n      <td>...</td>\n      <td>...</td>\n      <td>...</td>\n      <td>...</td>\n      <td>...</td>\n      <td>...</td>\n      <td>...</td>\n      <td>...</td>\n      <td>...</td>\n      <td>...</td>\n      <td>...</td>\n      <td>...</td>\n      <td>...</td>\n    </tr>\n    <tr>\n      <th>995</th>\n      <td>26ew-vrus</td>\n      <td>2022-02-21T00:00:00.000</td>\n      <td>Public Works Training Course by Employee</td>\n      <td>ODEXTRACT</td>\n      <td>nfms-ud8q</td>\n      <td>published</td>\n      <td>private</td>\n      <td>not_ready</td>\n      <td>official</td>\n      <td>dataset</td>\n      <td>...</td>\n      <td>Daily</td>\n      <td>opendata@chattanooga.gov</td>\n      <td>Ryan Wedell</td>\n      <td>Private Only - Shared with specific teams and ...</td>\n      <td>opendata@chattanooga.gov</td>\n      <td>NaN</td>\n      <td>NaN</td>\n      <td>NaN</td>\n      <td>NaN</td>\n      <td>public works,pw,training,courses,course</td>\n    </tr>\n    <tr>\n      <th>996</th>\n      <td>26ew-vrus</td>\n      <td>2022-02-22T00:00:00.000</td>\n      <td>Public Works Training Course by Employee</td>\n      <td>ODEXTRACT</td>\n      <td>nfms-ud8q</td>\n      <td>published</td>\n      <td>private</td>\n      <td>not_ready</td>\n      <td>official</td>\n      <td>dataset</td>\n      <td>...</td>\n      <td>Daily</td>\n      <td>opendata@chattanooga.gov</td>\n      <td>Ryan Wedell</td>\n      <td>Private Only - Shared with specific teams and ...</td>\n      <td>opendata@chattanooga.gov</td>\n      <td>NaN</td>\n      <td>NaN</td>\n      <td>NaN</td>\n      <td>NaN</td>\n      <td>public works,pw,training,courses,course</td>\n    </tr>\n    <tr>\n      <th>997</th>\n      <td>26ew-vrus</td>\n      <td>2022-02-24T00:00:00.000</td>\n      <td>Public Works Training Course by Employee</td>\n      <td>ODEXTRACT</td>\n      <td>nfms-ud8q</td>\n      <td>published</td>\n      <td>private</td>\n      <td>not_ready</td>\n      <td>official</td>\n      <td>dataset</td>\n      <td>...</td>\n      <td>Daily</td>\n      <td>opendata@chattanooga.gov</td>\n      <td>Ryan Wedell</td>\n      <td>Private Only - Shared with specific teams and ...</td>\n      <td>opendata@chattanooga.gov</td>\n      <td>NaN</td>\n      <td>NaN</td>\n      <td>NaN</td>\n      <td>NaN</td>\n      <td>public works,pw,training,courses,course</td>\n    </tr>\n    <tr>\n      <th>998</th>\n      <td>26ew-vrus</td>\n      <td>2022-02-25T00:00:00.000</td>\n      <td>Public Works Training Course by Employee</td>\n      <td>ODEXTRACT</td>\n      <td>nfms-ud8q</td>\n      <td>published</td>\n      <td>private</td>\n      <td>not_ready</td>\n      <td>official</td>\n      <td>dataset</td>\n      <td>...</td>\n      <td>Daily</td>\n      <td>opendata@chattanooga.gov</td>\n      <td>Ryan Wedell</td>\n      <td>Private Only - Shared with specific teams and ...</td>\n      <td>opendata@chattanooga.gov</td>\n      <td>NaN</td>\n      <td>NaN</td>\n      <td>NaN</td>\n      <td>NaN</td>\n      <td>public works,pw,training,courses,course</td>\n    </tr>\n    <tr>\n      <th>999</th>\n      <td>26ew-vrus</td>\n      <td>2022-02-26T00:00:00.000</td>\n      <td>Public Works Training Course by Employee</td>\n      <td>ODEXTRACT</td>\n      <td>nfms-ud8q</td>\n      <td>published</td>\n      <td>private</td>\n      <td>not_ready</td>\n      <td>official</td>\n      <td>dataset</td>\n      <td>...</td>\n      <td>Daily</td>\n      <td>opendata@chattanooga.gov</td>\n      <td>Ryan Wedell</td>\n      <td>Private Only - Shared with specific teams and ...</td>\n      <td>opendata@chattanooga.gov</td>\n      <td>NaN</td>\n      <td>NaN</td>\n      <td>NaN</td>\n      <td>NaN</td>\n      <td>public works,pw,training,courses,course</td>\n    </tr>\n  </tbody>\n</table>\n<p>1000 rows × 33 columns</p>\n</div>"
     },
     "execution_count": 28,
     "metadata": {},
     "output_type": "execute_result"
    }
   ],
   "source": [
    "nad_df.head(1500)"
   ],
   "metadata": {
    "collapsed": false
   }
  },
  {
   "cell_type": "code",
   "execution_count": 23,
   "outputs": [
    {
     "data": {
      "text/plain": "              uid          checkpoint_date                               name  \\\ncount        1000                      983                               1000   \nunique          6                      713                                  6   \ntop     23yp-ig2k  2021-06-01T00:00:00.000  THRIVE Region Census Block Groups   \nfreq          651                        3                                651   \n\n                 owner  owner_uid publication_stage audience approval_status  \\\ncount             1000       1000              1000     1000            1000   \nunique               5          5                 1        3               2   \ntop     Andrew Sevigny  t226-dtne         published   public        approved   \nfreq               652        652              1000      651             651   \n\n       provenance     type  ... internal_how_often_are_data  \\\ncount        1000     1000  ...                         996   \nunique          1        1  ...                           2   \ntop      official  dataset  ...                   As Needed   \nfreq         1000     1000  ...                         652   \n\n       public_public_dataset_contact internal_data_steward_name  \\\ncount                            996                        996   \nunique                             1                          2   \ntop         opendata@chattanooga.gov  odextract@chattanooga.gov   \nfreq                             996                        652   \n\n                             internal_dataset_sensitivity  \\\ncount                                                 996   \nunique                                                  3   \ntop     Public - Ability to be shared with general public   \nfreq                                                  651   \n\n       internal_data_steward_email  \\\ncount                          996   \nunique                           2   \ntop      odextract@chattanooga.gov   \nfreq                           652   \n\n                                                      url  \\\ncount                                                 563   \nunique                                                  3   \ntop     {'url': 'https://internal.chattadata.org/d/26e...   \nfreq                                                  320   \n\n              creation_date_utc last_metadata_updated_date  \\\ncount                         2                          2   \nunique                        2                          2   \ntop     2021-05-06T17:08:36.000    2021-05-13T21:26:07.000   \nfreq                          1                          1   \n\n       last_data_updated_date_utc                                     tags  \ncount                           2                                      344  \nunique                          2                                        4  \ntop       2021-05-13T21:26:08.000  public works,pw,training,courses,course  \nfreq                            1                                      335  \n\n[4 rows x 33 columns]",
      "text/html": "<div>\n<style scoped>\n    .dataframe tbody tr th:only-of-type {\n        vertical-align: middle;\n    }\n\n    .dataframe tbody tr th {\n        vertical-align: top;\n    }\n\n    .dataframe thead th {\n        text-align: right;\n    }\n</style>\n<table border=\"1\" class=\"dataframe\">\n  <thead>\n    <tr style=\"text-align: right;\">\n      <th></th>\n      <th>uid</th>\n      <th>checkpoint_date</th>\n      <th>name</th>\n      <th>owner</th>\n      <th>owner_uid</th>\n      <th>publication_stage</th>\n      <th>audience</th>\n      <th>approval_status</th>\n      <th>provenance</th>\n      <th>type</th>\n      <th>...</th>\n      <th>internal_how_often_are_data</th>\n      <th>public_public_dataset_contact</th>\n      <th>internal_data_steward_name</th>\n      <th>internal_dataset_sensitivity</th>\n      <th>internal_data_steward_email</th>\n      <th>url</th>\n      <th>creation_date_utc</th>\n      <th>last_metadata_updated_date</th>\n      <th>last_data_updated_date_utc</th>\n      <th>tags</th>\n    </tr>\n  </thead>\n  <tbody>\n    <tr>\n      <th>count</th>\n      <td>1000</td>\n      <td>983</td>\n      <td>1000</td>\n      <td>1000</td>\n      <td>1000</td>\n      <td>1000</td>\n      <td>1000</td>\n      <td>1000</td>\n      <td>1000</td>\n      <td>1000</td>\n      <td>...</td>\n      <td>996</td>\n      <td>996</td>\n      <td>996</td>\n      <td>996</td>\n      <td>996</td>\n      <td>563</td>\n      <td>2</td>\n      <td>2</td>\n      <td>2</td>\n      <td>344</td>\n    </tr>\n    <tr>\n      <th>unique</th>\n      <td>6</td>\n      <td>713</td>\n      <td>6</td>\n      <td>5</td>\n      <td>5</td>\n      <td>1</td>\n      <td>3</td>\n      <td>2</td>\n      <td>1</td>\n      <td>1</td>\n      <td>...</td>\n      <td>2</td>\n      <td>1</td>\n      <td>2</td>\n      <td>3</td>\n      <td>2</td>\n      <td>3</td>\n      <td>2</td>\n      <td>2</td>\n      <td>2</td>\n      <td>4</td>\n    </tr>\n    <tr>\n      <th>top</th>\n      <td>23yp-ig2k</td>\n      <td>2021-06-01T00:00:00.000</td>\n      <td>THRIVE Region Census Block Groups</td>\n      <td>Andrew Sevigny</td>\n      <td>t226-dtne</td>\n      <td>published</td>\n      <td>public</td>\n      <td>approved</td>\n      <td>official</td>\n      <td>dataset</td>\n      <td>...</td>\n      <td>As Needed</td>\n      <td>opendata@chattanooga.gov</td>\n      <td>odextract@chattanooga.gov</td>\n      <td>Public - Ability to be shared with general public</td>\n      <td>odextract@chattanooga.gov</td>\n      <td>{'url': 'https://internal.chattadata.org/d/26e...</td>\n      <td>2021-05-06T17:08:36.000</td>\n      <td>2021-05-13T21:26:07.000</td>\n      <td>2021-05-13T21:26:08.000</td>\n      <td>public works,pw,training,courses,course</td>\n    </tr>\n    <tr>\n      <th>freq</th>\n      <td>651</td>\n      <td>3</td>\n      <td>651</td>\n      <td>652</td>\n      <td>652</td>\n      <td>1000</td>\n      <td>651</td>\n      <td>651</td>\n      <td>1000</td>\n      <td>1000</td>\n      <td>...</td>\n      <td>652</td>\n      <td>996</td>\n      <td>652</td>\n      <td>651</td>\n      <td>652</td>\n      <td>320</td>\n      <td>1</td>\n      <td>1</td>\n      <td>1</td>\n      <td>335</td>\n    </tr>\n  </tbody>\n</table>\n<p>4 rows × 33 columns</p>\n</div>"
     },
     "execution_count": 23,
     "metadata": {},
     "output_type": "execute_result"
    }
   ],
   "source": [
    "nad_df.describe()"
   ],
   "metadata": {
    "collapsed": false
   }
  },
  {
   "cell_type": "code",
   "execution_count": 15,
   "outputs": [
    {
     "data": {
      "text/plain": "              uid          checkpoint_date                               name  \\\ncount           2                        2                                  2   \nunique          2                        1                                  2   \ntop     23yp-ig2k  2023-05-22T00:00:00.000  THRIVE Region Census Block Groups   \nfreq            1                        2                                  1   \n\n                 owner  owner_uid publication_stage audience approval_status  \\\ncount                2          2                 2        2               2   \nunique               2          2                 1        2               2   \ntop     Andrew Sevigny  t226-dtne         published   public        approved   \nfreq                 1          1                 2        1               1   \n\n       provenance     type  ... internal_how_often_are_data  \\\ncount           2        2  ...                           2   \nunique          1        1  ...                           2   \ntop      official  dataset  ...                   As Needed   \nfreq            2        2  ...                           1   \n\n       public_public_dataset_contact internal_data_steward_name  \\\ncount                              2                          2   \nunique                             1                          2   \ntop         opendata@chattanooga.gov  odextract@chattanooga.gov   \nfreq                               2                          1   \n\n                             internal_dataset_sensitivity  \\\ncount                                                   2   \nunique                                                  2   \ntop     Public - Ability to be shared with general public   \nfreq                                                    1   \n\n       internal_data_steward_email  url        creation_date_utc  \\\ncount                            2    0                        2   \nunique                           2    0                        2   \ntop      odextract@chattanooga.gov  NaN  2021-05-06T17:08:36.000   \nfreq                             1  NaN                        1   \n\n       last_metadata_updated_date last_data_updated_date_utc  \\\ncount                           2                          2   \nunique                          2                          2   \ntop       2021-05-13T21:26:07.000    2021-05-13T21:26:08.000   \nfreq                            1                          1   \n\n                                           tags  \ncount                                         1  \nunique                                        1  \ntop     public works,pw,training,courses,course  \nfreq                                          1  \n\n[4 rows x 33 columns]",
      "text/html": "<div>\n<style scoped>\n    .dataframe tbody tr th:only-of-type {\n        vertical-align: middle;\n    }\n\n    .dataframe tbody tr th {\n        vertical-align: top;\n    }\n\n    .dataframe thead th {\n        text-align: right;\n    }\n</style>\n<table border=\"1\" class=\"dataframe\">\n  <thead>\n    <tr style=\"text-align: right;\">\n      <th></th>\n      <th>uid</th>\n      <th>checkpoint_date</th>\n      <th>name</th>\n      <th>owner</th>\n      <th>owner_uid</th>\n      <th>publication_stage</th>\n      <th>audience</th>\n      <th>approval_status</th>\n      <th>provenance</th>\n      <th>type</th>\n      <th>...</th>\n      <th>internal_how_often_are_data</th>\n      <th>public_public_dataset_contact</th>\n      <th>internal_data_steward_name</th>\n      <th>internal_dataset_sensitivity</th>\n      <th>internal_data_steward_email</th>\n      <th>url</th>\n      <th>creation_date_utc</th>\n      <th>last_metadata_updated_date</th>\n      <th>last_data_updated_date_utc</th>\n      <th>tags</th>\n    </tr>\n  </thead>\n  <tbody>\n    <tr>\n      <th>count</th>\n      <td>2</td>\n      <td>2</td>\n      <td>2</td>\n      <td>2</td>\n      <td>2</td>\n      <td>2</td>\n      <td>2</td>\n      <td>2</td>\n      <td>2</td>\n      <td>2</td>\n      <td>...</td>\n      <td>2</td>\n      <td>2</td>\n      <td>2</td>\n      <td>2</td>\n      <td>2</td>\n      <td>0</td>\n      <td>2</td>\n      <td>2</td>\n      <td>2</td>\n      <td>1</td>\n    </tr>\n    <tr>\n      <th>unique</th>\n      <td>2</td>\n      <td>1</td>\n      <td>2</td>\n      <td>2</td>\n      <td>2</td>\n      <td>1</td>\n      <td>2</td>\n      <td>2</td>\n      <td>1</td>\n      <td>1</td>\n      <td>...</td>\n      <td>2</td>\n      <td>1</td>\n      <td>2</td>\n      <td>2</td>\n      <td>2</td>\n      <td>0</td>\n      <td>2</td>\n      <td>2</td>\n      <td>2</td>\n      <td>1</td>\n    </tr>\n    <tr>\n      <th>top</th>\n      <td>23yp-ig2k</td>\n      <td>2023-05-22T00:00:00.000</td>\n      <td>THRIVE Region Census Block Groups</td>\n      <td>Andrew Sevigny</td>\n      <td>t226-dtne</td>\n      <td>published</td>\n      <td>public</td>\n      <td>approved</td>\n      <td>official</td>\n      <td>dataset</td>\n      <td>...</td>\n      <td>As Needed</td>\n      <td>opendata@chattanooga.gov</td>\n      <td>odextract@chattanooga.gov</td>\n      <td>Public - Ability to be shared with general public</td>\n      <td>odextract@chattanooga.gov</td>\n      <td>NaN</td>\n      <td>2021-05-06T17:08:36.000</td>\n      <td>2021-05-13T21:26:07.000</td>\n      <td>2021-05-13T21:26:08.000</td>\n      <td>public works,pw,training,courses,course</td>\n    </tr>\n    <tr>\n      <th>freq</th>\n      <td>1</td>\n      <td>2</td>\n      <td>1</td>\n      <td>1</td>\n      <td>1</td>\n      <td>2</td>\n      <td>1</td>\n      <td>1</td>\n      <td>2</td>\n      <td>2</td>\n      <td>...</td>\n      <td>1</td>\n      <td>2</td>\n      <td>1</td>\n      <td>1</td>\n      <td>1</td>\n      <td>NaN</td>\n      <td>1</td>\n      <td>1</td>\n      <td>1</td>\n      <td>1</td>\n    </tr>\n  </tbody>\n</table>\n<p>4 rows × 33 columns</p>\n</div>"
     },
     "execution_count": 15,
     "metadata": {},
     "output_type": "execute_result"
    }
   ],
   "source": [
    "rslt_df.describe()"
   ],
   "metadata": {
    "collapsed": false
   }
  },
  {
   "cell_type": "code",
   "execution_count": null,
   "outputs": [],
   "source": [],
   "metadata": {
    "collapsed": false
   }
  }
 ],
 "metadata": {
  "kernelspec": {
   "display_name": "Python 3",
   "language": "python",
   "name": "python3"
  },
  "language_info": {
   "codemirror_mode": {
    "name": "ipython",
    "version": 2
   },
   "file_extension": ".py",
   "mimetype": "text/x-python",
   "name": "python",
   "nbconvert_exporter": "python",
   "pygments_lexer": "ipython2",
   "version": "2.7.6"
  }
 },
 "nbformat": 4,
 "nbformat_minor": 0
}
